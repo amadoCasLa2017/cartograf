{
 "cells": [
  {
   "cell_type": "code",
   "execution_count": 54,
   "metadata": {
    "collapsed": true
   },
   "outputs": [],
   "source": [
    "try:\n",
    "    import urllib2 as urllib\n",
    "except ImportError:\n",
    "    import urllib.request as urllib\n",
    "import json\n",
    "import os\n",
    "import datetime"
   ]
  },
  {
   "cell_type": "code",
   "execution_count": 64,
   "metadata": {
    "collapsed": true
   },
   "outputs": [],
   "source": [
    "def cambiar_fecha(fecha):\n",
    "    return datetime.datetime.fromtimestamp(int(fecha)).strftime('%d-%m-%Y')\n"
   ]
  },
  {
   "cell_type": "code",
   "execution_count": 49,
   "metadata": {
    "collapsed": false
   },
   "outputs": [],
   "source": [
    "token = os.getenv(CARTOGRAFTOKEN)\n",
    "url = 'https://api.instagram.com/v1/tags/cartograf/media/recent?access_token=' + token\n",
    "\n",
    "\n",
    "response = urllib.urlopen(url)\n",
    "rawData = response.read().decode(\"utf-8\")\n",
    "parseData = json.loads(rawData)\n",
    "usuario = parseData['data'][0]['caption']['from']['username']\n",
    "fotos = parseData['data'][0]['images']\n",
    "fotoChica = fotos['thumbnail']\n",
    "fotoStandard = fotos['standard_resolution']\n",
    "fecha = cambiar_fecha(parseData['data'][0]['created_time'])"
   ]
  },
  {
   "cell_type": "code",
   "execution_count": 56,
   "metadata": {
    "collapsed": false
   },
   "outputs": [],
   "source": [
    "#esto falta\n",
    "parseData['data'][0]['location']"
   ]
  },
  {
   "cell_type": "code",
   "execution_count": 66,
   "metadata": {
    "collapsed": false
   },
   "outputs": [
    {
     "data": {
      "text/plain": [
       "{u'data': [{u'attribution': None,\n",
       "   u'caption': {u'created_time': u'1501199401',\n",
       "    u'from': {u'full_name': u'Mar\\xeda Laura Mart\\xednez Bigozzi',\n",
       "     u'id': u'5557189143',\n",
       "     u'profile_picture': u'https://scontent.cdninstagram.com/t51.2885-19/s150x150/18949676_475427966123000_2554511458054438912_a.jpg',\n",
       "     u'username': u'moropisa_'},\n",
       "    u'id': u'17865617575189604',\n",
       "    u'text': u'En proceso de construcci\\xf3n: mapeo colectivo de arte callejero en CABA y alrededores. \\U0001f913 #cartograf'},\n",
       "   u'comments': {u'count': 0},\n",
       "   u'created_time': u'1501199401',\n",
       "   u'filter': u'Normal',\n",
       "   u'id': u'1568496718458069195_5557189143',\n",
       "   u'images': {u'low_resolution': {u'height': 320,\n",
       "     u'url': u'https://scontent.cdninstagram.com/t51.2885-15/s320x320/e35/20398246_169994470211078_6832053620763000832_n.jpg',\n",
       "     u'width': 320},\n",
       "    u'standard_resolution': {u'height': 640,\n",
       "     u'url': u'https://scontent.cdninstagram.com/t51.2885-15/s640x640/sh0.08/e35/20398246_169994470211078_6832053620763000832_n.jpg',\n",
       "     u'width': 640},\n",
       "    u'thumbnail': {u'height': 150,\n",
       "     u'url': u'https://scontent.cdninstagram.com/t51.2885-15/s150x150/e35/20398246_169994470211078_6832053620763000832_n.jpg',\n",
       "     u'width': 150}},\n",
       "   u'likes': {u'count': 1},\n",
       "   u'link': u'https://www.instagram.com/p/BXEa3SHDyDL/',\n",
       "   u'location': None,\n",
       "   u'tags': [u'cartograf'],\n",
       "   u'type': u'image',\n",
       "   u'user': {u'full_name': u'Mar\\xeda Laura Mart\\xednez Bigozzi',\n",
       "    u'id': u'5557189143',\n",
       "    u'profile_picture': u'https://scontent.cdninstagram.com/t51.2885-19/s150x150/18949676_475427966123000_2554511458054438912_a.jpg',\n",
       "    u'username': u'moropisa_'},\n",
       "   u'user_has_liked': False,\n",
       "   u'users_in_photo': []}],\n",
       " u'meta': {u'code': 200},\n",
       " u'pagination': {u'deprecation_warning': u'next_max_id and min_id are deprecated for this endpoint; use min_tag_id and max_tag_id instead',\n",
       "  u'min_tag_id': u'AQBrY7rl771N6Y4Y1DekPbZHo5KoVX4jgY770C8iK4UWyL-dOVgrh0X7qQGfBxOfHWrVgVESCl4IkNepPMOx1GuZifwatLnNglQ_SV0Noz57uA',\n",
       "  u'next_min_id': u'AQBrY7rl771N6Y4Y1DekPbZHo5KoVX4jgY770C8iK4UWyL-dOVgrh0X7qQGfBxOfHWrVgVESCl4IkNepPMOx1GuZifwatLnNglQ_SV0Noz57uA'}}"
      ]
     },
     "execution_count": 66,
     "metadata": {},
     "output_type": "execute_result"
    }
   ],
   "source": [
    "parseData[]"
   ]
  },
  {
   "cell_type": "code",
   "execution_count": null,
   "metadata": {
    "collapsed": true
   },
   "outputs": [],
   "source": []
  }
 ],
 "metadata": {
  "anaconda-cloud": {},
  "kernelspec": {
   "display_name": "Python [conda root]",
   "language": "python",
   "name": "conda-root-py"
  },
  "language_info": {
   "codemirror_mode": {
    "name": "ipython",
    "version": 2
   },
   "file_extension": ".py",
   "mimetype": "text/x-python",
   "name": "python",
   "nbconvert_exporter": "python",
   "pygments_lexer": "ipython2",
   "version": "2.7.12"
  }
 },
 "nbformat": 4,
 "nbformat_minor": 1
}
