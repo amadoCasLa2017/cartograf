{
 "cells": [
  {
   "cell_type": "code",
   "execution_count": 1,
   "metadata": {
    "collapsed": false
   },
   "outputs": [],
   "source": [
    "try:\n",
    "    import urllib2 as urllib\n",
    "except ImportError:\n",
    "    import urllib.request as urllib\n",
    "import json\n",
    "import os\n",
    "import datetime\n",
    "import pandas as pd\n",
    "import numpy as np\n",
    "import shapely.wkt\n",
    "import geopandas as gpd\n",
    "from shapely.geometry import Point\n",
    "import os.path\n",
    "\n"
   ]
  },
  {
   "cell_type": "code",
   "execution_count": 2,
   "metadata": {
    "collapsed": true
   },
   "outputs": [],
   "source": [
    "def cambiar_fecha(fecha):\n",
    "    return datetime.datetime.fromtimestamp(int(fecha)).strftime('%d-%m-%Y')\n",
    "\n",
    "def queryInstagramAPI():\n",
    "    token = os.getenv('CARTOGRAFTOKEN')\n",
    "    url = 'https://api.instagram.com/v1/tags/cartograf/media/recent?access_token=' + token\n",
    "\n",
    "\n",
    "    response = urllib.urlopen(url)\n",
    "    rawData = response.read().decode(\"utf-8\")\n",
    "    parseData = json.loads(rawData)\n",
    "    data = parseData['data']\n",
    "    return data"
   ]
  },
  {
   "cell_type": "code",
   "execution_count": 3,
   "metadata": {
    "collapsed": false
   },
   "outputs": [],
   "source": [
    "data = queryInstagramAPI()"
   ]
  },
  {
   "cell_type": "code",
   "execution_count": 4,
   "metadata": {
    "collapsed": false
   },
   "outputs": [],
   "source": [
    "usuarios = []\n",
    "fotos=[]\n",
    "fechas = []\n",
    "geometry = []\n",
    "popUpContent = []\n",
    "for i in range(len(data)):\n",
    "    usuarios.append(data[i]['caption']['from']['username']) \n",
    "    foto = data[i]['images']\n",
    "    \n",
    "    fotos.append(foto)\n",
    "    fechas.append(cambiar_fecha(data[i]['created_time']))\n",
    "    \n",
    "    \n",
    "    try:    \n",
    "        punto = Point(data[i]['location']['longitude'],data[i]['location']['latitude'])\n",
    "        geometry.append(punto)\n",
    "    except:\n",
    "        geometry.append(np.nan)\n",
    "        \n",
    "        \n",
    "    grande = foto['standard_resolution']['url']\n",
    "    chica = foto['low_resolution']['url']\n",
    "    tamanio = str(foto['low_resolution']['height'])\n",
    "    \n",
    "    popUp = '''<b>INTERVENCION CALLEJERA</b> <br> <a href=\"''' + grande + \\\n",
    "    '''\" target=\"_blank\"> <img src=\"''' + chica + \\\n",
    "    '''\" height=\"''' + tamanio + '''\"></a> ''' \n",
    "    \n",
    "    popUpContent.append(popUp)"
   ]
  },
  {
   "cell_type": "code",
   "execution_count": 5,
   "metadata": {
    "collapsed": false
   },
   "outputs": [
    {
     "data": {
      "text/html": [
       "<div>\n",
       "<table border=\"1\" class=\"dataframe\">\n",
       "  <thead>\n",
       "    <tr style=\"text-align: right;\">\n",
       "      <th></th>\n",
       "      <th>fechas</th>\n",
       "      <th>geometry</th>\n",
       "      <th>popUpContent</th>\n",
       "      <th>usuarios</th>\n",
       "    </tr>\n",
       "  </thead>\n",
       "  <tbody>\n",
       "    <tr>\n",
       "      <th>0</th>\n",
       "      <td>09-08-2017</td>\n",
       "      <td>POINT (-58.4330381 -34.5879633)</td>\n",
       "      <td>&lt;b&gt;INTERVENCION CALLEJERA&lt;/b&gt; &lt;br&gt; &lt;a href=\"ht...</td>\n",
       "      <td>moropisa_</td>\n",
       "    </tr>\n",
       "    <tr>\n",
       "      <th>1</th>\n",
       "      <td>09-08-2017</td>\n",
       "      <td>POINT (-58.42757 -34.61469)</td>\n",
       "      <td>&lt;b&gt;INTERVENCION CALLEJERA&lt;/b&gt; &lt;br&gt; &lt;a href=\"ht...</td>\n",
       "      <td>moropisa_</td>\n",
       "    </tr>\n",
       "  </tbody>\n",
       "</table>\n",
       "</div>"
      ],
      "text/plain": [
       "       fechas                         geometry  \\\n",
       "0  09-08-2017  POINT (-58.4330381 -34.5879633)   \n",
       "1  09-08-2017      POINT (-58.42757 -34.61469)   \n",
       "\n",
       "                                        popUpContent   usuarios  \n",
       "0  <b>INTERVENCION CALLEJERA</b> <br> <a href=\"ht...  moropisa_  \n",
       "1  <b>INTERVENCION CALLEJERA</b> <br> <a href=\"ht...  moropisa_  "
      ]
     },
     "execution_count": 5,
     "metadata": {},
     "output_type": "execute_result"
    }
   ],
   "source": [
    "df = pd.DataFrame({'usuarios':usuarios,\n",
    "                   #'fotoChica':fotosChicas,\n",
    "                   #'fotosStandard':fotosStandard,\n",
    "                   #'fotos':fotos,\n",
    "                  'fechas':fechas,\n",
    "                   'popUpContent':popUpContent,\n",
    "                 'geometry':geometry\n",
    "                  })\n",
    "df.dropna(inplace=True)\n",
    "df"
   ]
  },
  {
   "cell_type": "code",
   "execution_count": 6,
   "metadata": {
    "collapsed": false
   },
   "outputs": [],
   "source": [
    "#create GeoDataFrame with linestrings as geometry\n",
    "crs = {'init': 'epsg:4326'}\n",
    "gdf = gpd.GeoDataFrame(df, crs=crs, geometry=df.geometry)\n"
   ]
  },
  {
   "cell_type": "code",
   "execution_count": 7,
   "metadata": {
    "collapsed": false
   },
   "outputs": [],
   "source": [
    "filename = '../data/data.geojson'\n",
    "if os.path.exists(filename):\n",
    "    os.system('rm '+filename)\n",
    "gdf.to_file(filename,driver=\"GeoJSON\")"
   ]
  },
  {
   "cell_type": "code",
   "execution_count": null,
   "metadata": {
    "collapsed": true
   },
   "outputs": [],
   "source": []
  }
 ],
 "metadata": {
  "anaconda-cloud": {},
  "kernelspec": {
   "display_name": "Python [conda root]",
   "language": "python",
   "name": "conda-root-py"
  },
  "language_info": {
   "codemirror_mode": {
    "name": "ipython",
    "version": 2
   },
   "file_extension": ".py",
   "mimetype": "text/x-python",
   "name": "python",
   "nbconvert_exporter": "python",
   "pygments_lexer": "ipython2",
   "version": "2.7.12"
  }
 },
 "nbformat": 4,
 "nbformat_minor": 1
}
