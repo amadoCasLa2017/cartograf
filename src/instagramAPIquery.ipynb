{
 "cells": [
  {
   "cell_type": "code",
   "execution_count": 1,
   "metadata": {
    "collapsed": true
   },
   "outputs": [],
   "source": [
    "try:\n",
    "    import urllib2 as urllib\n",
    "except ImportError:\n",
    "    import urllib.request as urllib\n",
    "import json\n",
    "import os\n",
    "import datetime\n",
    "import pandas as pd"
   ]
  },
  {
   "cell_type": "code",
   "execution_count": 2,
   "metadata": {
    "collapsed": true
   },
   "outputs": [],
   "source": [
    "def cambiar_fecha(fecha):\n",
    "    return datetime.datetime.fromtimestamp(int(fecha)).strftime('%d-%m-%Y')\n",
    "\n",
    "def queryInstagramAPI():\n",
    "    token = os.getenv('CARTOGRAFTOKEN')\n",
    "    url = 'https://api.instagram.com/v1/tags/cartograf/media/recent?access_token=' + token\n",
    "\n",
    "\n",
    "    response = urllib.urlopen(url)\n",
    "    rawData = response.read().decode(\"utf-8\")\n",
    "    parseData = json.loads(rawData)\n",
    "    data = parseData['data']\n",
    "    return data"
   ]
  },
  {
   "cell_type": "code",
   "execution_count": 3,
   "metadata": {
    "collapsed": false
   },
   "outputs": [],
   "source": [
    "data = queryInstagramAPI()"
   ]
  },
  {
   "cell_type": "code",
   "execution_count": 4,
   "metadata": {
    "collapsed": false
   },
   "outputs": [],
   "source": [
    "usuarios = []\n",
    "fotosChicas = []\n",
    "fotosStandard = []\n",
    "fechas = []\n",
    "ubicaciones = []\n",
    "for i in range(len(data)):\n",
    "    usuarios.append(data[i]['caption']['from']['username']) \n",
    "    fotos = data[i]['images']\n",
    "    fotosChicas.append(fotos['thumbnail']['url'])\n",
    "    fotosStandard.append(fotos['standard_resolution']['url'])\n",
    "    fechas.append(cambiar_fecha(data[i]['created_time']))\n",
    "    ubicaciones.append(data[i]['location'])"
   ]
  },
  {
   "cell_type": "code",
   "execution_count": 5,
   "metadata": {
    "collapsed": false
   },
   "outputs": [
    {
     "data": {
      "text/html": [
       "<div>\n",
       "<table border=\"1\" class=\"dataframe\">\n",
       "  <thead>\n",
       "    <tr style=\"text-align: right;\">\n",
       "      <th></th>\n",
       "      <th>fechas</th>\n",
       "      <th>fotoChica</th>\n",
       "      <th>fotosStandard</th>\n",
       "      <th>ubicacion</th>\n",
       "      <th>usuarios</th>\n",
       "    </tr>\n",
       "  </thead>\n",
       "  <tbody>\n",
       "    <tr>\n",
       "      <th>0</th>\n",
       "      <td>27-07-2017</td>\n",
       "      <td>https://scontent.cdninstagram.com/t51.2885-15/...</td>\n",
       "      <td>https://scontent.cdninstagram.com/t51.2885-15/...</td>\n",
       "      <td>None</td>\n",
       "      <td>moropisa_</td>\n",
       "    </tr>\n",
       "  </tbody>\n",
       "</table>\n",
       "</div>"
      ],
      "text/plain": [
       "       fechas                                          fotoChica  \\\n",
       "0  27-07-2017  https://scontent.cdninstagram.com/t51.2885-15/...   \n",
       "\n",
       "                                       fotosStandard ubicacion   usuarios  \n",
       "0  https://scontent.cdninstagram.com/t51.2885-15/...      None  moropisa_  "
      ]
     },
     "execution_count": 5,
     "metadata": {},
     "output_type": "execute_result"
    }
   ],
   "source": [
    "df = pd.DataFrame({'usuarios':usuarios,\n",
    "                   'fotoChica':fotosChicas,\n",
    "                   'fotosStandard':fotosStandard,\n",
    "                  'fechas':fechas,\n",
    "                 'ubicacion':ubicaciones})\n",
    "df"
   ]
  },
  {
   "cell_type": "code",
   "execution_count": 6,
   "metadata": {
    "collapsed": false
   },
   "outputs": [
    {
     "data": {
      "text/plain": [
       "[{u'attribution': None,\n",
       "  u'caption': {u'created_time': u'1501199401',\n",
       "   u'from': {u'full_name': u'Mar\\xeda Laura Mart\\xednez Bigozzi',\n",
       "    u'id': u'5557189143',\n",
       "    u'profile_picture': u'https://scontent.cdninstagram.com/t51.2885-19/s150x150/18949676_475427966123000_2554511458054438912_a.jpg',\n",
       "    u'username': u'moropisa_'},\n",
       "   u'id': u'17865617575189604',\n",
       "   u'text': u'En proceso de construcci\\xf3n: mapeo colectivo de arte callejero en CABA y alrededores. \\U0001f913 #cartograf'},\n",
       "  u'comments': {u'count': 1},\n",
       "  u'created_time': u'1501199401',\n",
       "  u'filter': u'Normal',\n",
       "  u'id': u'1568496718458069195_5557189143',\n",
       "  u'images': {u'low_resolution': {u'height': 320,\n",
       "    u'url': u'https://scontent.cdninstagram.com/t51.2885-15/s320x320/e35/20398246_169994470211078_6832053620763000832_n.jpg',\n",
       "    u'width': 320},\n",
       "   u'standard_resolution': {u'height': 640,\n",
       "    u'url': u'https://scontent.cdninstagram.com/t51.2885-15/s640x640/sh0.08/e35/20398246_169994470211078_6832053620763000832_n.jpg',\n",
       "    u'width': 640},\n",
       "   u'thumbnail': {u'height': 150,\n",
       "    u'url': u'https://scontent.cdninstagram.com/t51.2885-15/s150x150/e35/20398246_169994470211078_6832053620763000832_n.jpg',\n",
       "    u'width': 150}},\n",
       "  u'likes': {u'count': 12},\n",
       "  u'link': u'https://www.instagram.com/p/BXEa3SHDyDL/',\n",
       "  u'location': None,\n",
       "  u'tags': [u'cartograf'],\n",
       "  u'type': u'image',\n",
       "  u'user': {u'full_name': u'Mar\\xeda Laura Mart\\xednez Bigozzi',\n",
       "   u'id': u'5557189143',\n",
       "   u'profile_picture': u'https://scontent.cdninstagram.com/t51.2885-19/s150x150/18949676_475427966123000_2554511458054438912_a.jpg',\n",
       "   u'username': u'moropisa_'},\n",
       "  u'user_has_liked': False,\n",
       "  u'users_in_photo': []}]"
      ]
     },
     "execution_count": 6,
     "metadata": {},
     "output_type": "execute_result"
    }
   ],
   "source": [
    "data"
   ]
  },
  {
   "cell_type": "code",
   "execution_count": null,
   "metadata": {
    "collapsed": true
   },
   "outputs": [],
   "source": []
  }
 ],
 "metadata": {
  "anaconda-cloud": {},
  "kernelspec": {
   "display_name": "Python [conda root]",
   "language": "python",
   "name": "conda-root-py"
  },
  "language_info": {
   "codemirror_mode": {
    "name": "ipython",
    "version": 2
   },
   "file_extension": ".py",
   "mimetype": "text/x-python",
   "name": "python",
   "nbconvert_exporter": "python",
   "pygments_lexer": "ipython2",
   "version": "2.7.12"
  }
 },
 "nbformat": 4,
 "nbformat_minor": 1
}
