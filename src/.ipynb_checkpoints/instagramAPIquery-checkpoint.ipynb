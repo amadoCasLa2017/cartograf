{
 "cells": [
  {
   "cell_type": "code",
   "execution_count": 1,
   "metadata": {
    "collapsed": true
   },
   "outputs": [],
   "source": [
    "try:\n",
    "    import urllib2 as urllib\n",
    "except ImportError:\n",
    "    import urllib.request as urllib\n",
    "import json\n",
    "import os\n",
    "import datetime"
   ]
  },
  {
   "cell_type": "code",
   "execution_count": 5,
   "metadata": {
    "collapsed": true
   },
   "outputs": [],
   "source": [
    "def cambiar_fecha(fecha):\n",
    "    return datetime.datetime.fromtimestamp(int(fecha)).strftime('%d-%m-%Y')\n",
    "\n",
    "def queryInstagramAPI():\n",
    "    token = os.getenv('CARTOGRAFTOKEN')\n",
    "    url = 'https://api.instagram.com/v1/tags/cartograf/media/recent?access_token=' + token\n",
    "\n",
    "\n",
    "    response = urllib.urlopen(url)\n",
    "    rawData = response.read().decode(\"utf-8\")\n",
    "    parseData = json.loads(rawData)\n",
    "    data = parseData['data']\n",
    "    return data"
   ]
  },
  {
   "cell_type": "code",
   "execution_count": 9,
   "metadata": {
    "collapsed": false
   },
   "outputs": [],
   "source": [
    "data = queryInstagramAPI()"
   ]
  },
  {
   "cell_type": "code",
   "execution_count": null,
   "metadata": {
    "collapsed": true
   },
   "outputs": [],
   "source": [
    "for i in range(len(data)):\n",
    "    usuario = data[i]['caption']['from']['username']\n",
    "    foto = data[i]['images']\n",
    "    fotoChica = fotos['thumbnail']\n",
    "    fotoStandard = fotos['standard_resolution']\n",
    "    fecha = cambiar_fecha(data[i]['created_time'])"
   ]
  },
  {
   "cell_type": "code",
   "execution_count": null,
   "metadata": {
    "collapsed": false
   },
   "outputs": [],
   "source": [
    "#esto falta\n",
    "parseData['data'][0]['location']"
   ]
  },
  {
   "cell_type": "code",
   "execution_count": null,
   "metadata": {
    "collapsed": false
   },
   "outputs": [],
   "source": [
    "parseData[]"
   ]
  },
  {
   "cell_type": "code",
   "execution_count": null,
   "metadata": {
    "collapsed": true
   },
   "outputs": [],
   "source": []
  }
 ],
 "metadata": {
  "anaconda-cloud": {},
  "kernelspec": {
   "display_name": "Python [conda root]",
   "language": "python",
   "name": "conda-root-py"
  },
  "language_info": {
   "codemirror_mode": {
    "name": "ipython",
    "version": 2
   },
   "file_extension": ".py",
   "mimetype": "text/x-python",
   "name": "python",
   "nbconvert_exporter": "python",
   "pygments_lexer": "ipython2",
   "version": "2.7.12"
  }
 },
 "nbformat": 4,
 "nbformat_minor": 1
}
