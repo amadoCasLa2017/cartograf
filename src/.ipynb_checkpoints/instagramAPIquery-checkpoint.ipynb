{
 "cells": [
  {
   "cell_type": "code",
   "execution_count": 63,
   "metadata": {
    "collapsed": false
   },
   "outputs": [],
   "source": [
    "try:\n",
    "    import urllib2 as urllib\n",
    "except ImportError:\n",
    "    import urllib.request as urllib\n",
    "import json\n",
    "import os\n",
    "import datetime\n",
    "import pandas as pd\n",
    "import numpy as np\n",
    "import shapely.wkt\n",
    "import geopandas as gpd\n",
    "from shapely.geometry import Point\n"
   ]
  },
  {
   "cell_type": "code",
   "execution_count": 64,
   "metadata": {
    "collapsed": true
   },
   "outputs": [],
   "source": [
    "def cambiar_fecha(fecha):\n",
    "    return datetime.datetime.fromtimestamp(int(fecha)).strftime('%d-%m-%Y')\n",
    "\n",
    "def queryInstagramAPI():\n",
    "    token = os.getenv('CARTOGRAFTOKEN')\n",
    "    url = 'https://api.instagram.com/v1/tags/cartograf/media/recent?access_token=' + token\n",
    "\n",
    "\n",
    "    response = urllib.urlopen(url)\n",
    "    rawData = response.read().decode(\"utf-8\")\n",
    "    parseData = json.loads(rawData)\n",
    "    data = parseData['data']\n",
    "    return data"
   ]
  },
  {
   "cell_type": "code",
   "execution_count": 65,
   "metadata": {
    "collapsed": false
   },
   "outputs": [],
   "source": [
    "data = queryInstagramAPI()"
   ]
  },
  {
   "cell_type": "code",
   "execution_count": 71,
   "metadata": {
    "collapsed": false
   },
   "outputs": [],
   "source": [
    "usuarios = []\n",
    "#fotosChicas = []\n",
    "#fotosStandard = []\n",
    "fotos=[]\n",
    "fechas = []\n",
    "geometry = []\n",
    "popUpContent = []\n",
    "for i in range(len(data)):\n",
    "    usuarios.append(data[i]['caption']['from']['username']) \n",
    "    foto = data[i]['images']\n",
    "    #fotosChicas.append(foto['thumbnail']['url'])\n",
    "    #fotosStandard.append(foto['standard_resolution']['url'])\n",
    "    \n",
    "    fotos.append(foto)\n",
    "    fechas.append(cambiar_fecha(data[i]['created_time']))\n",
    "    \n",
    "    \n",
    "    try:    \n",
    "        punto = Point(data[i]['location']['longitude'],data[i]['location']['latitude'])\n",
    "        geometry.append(punto)\n",
    "    except:\n",
    "        geometry.append(np.nan)\n",
    "        \n",
    "        \n",
    "    grande = foto['standard_resolution']['url']\n",
    "    chica = foto['low_resolution']['url']\n",
    "    tamanio = str(foto['low_resolution']['height'])\n",
    "    popUp = '''\"<b>INTERVENCION CALLEJERA</b> <br> <a href=' ''' + grande + \n",
    "    ''' ' target='_blank'> <img src=' ''' + chica + ''' \\\n",
    "    ' height=' ''' + tamanio + ''''></a>\"'''\n",
    "    \n",
    "    popUpContent.append(popUp)"
   ]
  },
  {
   "cell_type": "code",
   "execution_count": 72,
   "metadata": {
    "collapsed": false
   },
   "outputs": [
    {
     "data": {
      "text/html": [
       "<div>\n",
       "<table border=\"1\" class=\"dataframe\">\n",
       "  <thead>\n",
       "    <tr style=\"text-align: right;\">\n",
       "      <th></th>\n",
       "      <th>fechas</th>\n",
       "      <th>geometry</th>\n",
       "      <th>popUpContent</th>\n",
       "      <th>usuarios</th>\n",
       "    </tr>\n",
       "  </thead>\n",
       "  <tbody>\n",
       "    <tr>\n",
       "      <th>0</th>\n",
       "      <td>09-08-2017</td>\n",
       "      <td>POINT (-58.4330381 -34.5879633)</td>\n",
       "      <td>\"&lt;b&gt;INTERVENCION CALLEJERA&lt;/b&gt; &lt;br&gt; &lt;a href=' ...</td>\n",
       "      <td>moropisa_</td>\n",
       "    </tr>\n",
       "    <tr>\n",
       "      <th>1</th>\n",
       "      <td>09-08-2017</td>\n",
       "      <td>POINT (-58.42757 -34.61469)</td>\n",
       "      <td>\"&lt;b&gt;INTERVENCION CALLEJERA&lt;/b&gt; &lt;br&gt; &lt;a href=' ...</td>\n",
       "      <td>moropisa_</td>\n",
       "    </tr>\n",
       "  </tbody>\n",
       "</table>\n",
       "</div>"
      ],
      "text/plain": [
       "       fechas                         geometry  \\\n",
       "0  09-08-2017  POINT (-58.4330381 -34.5879633)   \n",
       "1  09-08-2017      POINT (-58.42757 -34.61469)   \n",
       "\n",
       "                                        popUpContent   usuarios  \n",
       "0  \"<b>INTERVENCION CALLEJERA</b> <br> <a href=' ...  moropisa_  \n",
       "1  \"<b>INTERVENCION CALLEJERA</b> <br> <a href=' ...  moropisa_  "
      ]
     },
     "execution_count": 72,
     "metadata": {},
     "output_type": "execute_result"
    }
   ],
   "source": [
    "df = pd.DataFrame({'usuarios':usuarios,\n",
    "                   #'fotoChica':fotosChicas,\n",
    "                   #'fotosStandard':fotosStandard,\n",
    "                   #'fotos':fotos,\n",
    "                  'fechas':fechas,\n",
    "                   'popUpContent':popUpContent,\n",
    "                 'geometry':geometry\n",
    "                  })\n",
    "df.dropna(inplace=True)\n",
    "df"
   ]
  },
  {
   "cell_type": "code",
   "execution_count": 73,
   "metadata": {
    "collapsed": false
   },
   "outputs": [
    {
     "data": {
      "text/plain": [
       "u'\"<b>INTERVENCION CALLEJERA</b> <br> <a href=\\' https://scontent.cdninstagram.com/t51.2885-15/s640x640/sh0.08/e35/20687915_207748669756964_7877675473537335296_n.jpg \\' target=\\'_blank\\'> <img src=\\' https://scontent.cdninstagram.com/t51.2885-15/s320x320/e35/20687915_207748669756964_7877675473537335296_n.jpg \\' height=\\' 320\\'></a>\"'"
      ]
     },
     "execution_count": 73,
     "metadata": {},
     "output_type": "execute_result"
    }
   ],
   "source": [
    "df.popUpContent[0]"
   ]
  },
  {
   "cell_type": "code",
   "execution_count": 39,
   "metadata": {
    "collapsed": false
   },
   "outputs": [],
   "source": [
    "#create GeoDataFrame with linestrings as geometry\n",
    "crs = {'init': 'epsg:4326'}\n",
    "gdf = gpd.GeoDataFrame(df, crs=crs, geometry=df.geometry)\n",
    "gdf.to_file('../data/data2.geojson',driver=\"GeoJSON\")"
   ]
  },
  {
   "cell_type": "code",
   "execution_count": 58,
   "metadata": {
    "collapsed": false
   },
   "outputs": [
    {
     "data": {
      "text/plain": [
       "{u'low_resolution': {u'height': 266,\n",
       "  u'url': u'https://scontent.cdninstagram.com/t51.2885-15/s320x320/e35/20686548_290932511377377_6711349345934901248_n.jpg',\n",
       "  u'width': 320},\n",
       " u'standard_resolution': {u'height': 532,\n",
       "  u'url': u'https://scontent.cdninstagram.com/t51.2885-15/s640x640/sh0.08/e35/20686548_290932511377377_6711349345934901248_n.jpg',\n",
       "  u'width': 640},\n",
       " u'thumbnail': {u'height': 150,\n",
       "  u'url': u'https://scontent.cdninstagram.com/t51.2885-15/s150x150/e35/c91.0.898.898/20686548_290932511377377_6711349345934901248_n.jpg',\n",
       "  u'width': 150}}"
      ]
     },
     "execution_count": 58,
     "metadata": {},
     "output_type": "execute_result"
    }
   ],
   "source": [
    "df.iloc[1].fotos"
   ]
  },
  {
   "cell_type": "code",
   "execution_count": 59,
   "metadata": {
    "collapsed": false
   },
   "outputs": [
    {
     "data": {
      "text/plain": [
       "{u'height': 266,\n",
       " u'url': u'https://scontent.cdninstagram.com/t51.2885-15/s320x320/e35/20686548_290932511377377_6711349345934901248_n.jpg',\n",
       " u'width': 320}"
      ]
     },
     "execution_count": 59,
     "metadata": {},
     "output_type": "execute_result"
    }
   ],
   "source": [
    "df.iloc[1].fotos['low_resolution']"
   ]
  },
  {
   "cell_type": "code",
   "execution_count": 61,
   "metadata": {
    "collapsed": false
   },
   "outputs": [
    {
     "name": "stdout",
     "output_type": "stream",
     "text": [
      "\"<b>INTERVENCION CALLEJERA</b> <br> <a href=' https://scontent.cdninstagram.com/t51.2885-15/s640x640/sh0.08/e35/20686548_290932511377377_6711349345934901248_n.jpg ' target='_blank'> <img src=' https://scontent.cdninstagram.com/t51.2885-15/s320x320/e35/20686548_290932511377377_6711349345934901248_n.jpg ' height=' 266'></a>\"\n"
     ]
    }
   ],
   "source": [
    "grande = df.iloc[1].fotos['standard_resolution']['url']\n",
    "chica = df.iloc[1].fotos['low_resolution']['url']\n",
    "tamanio = str(df.iloc[1].fotos['low_resolution']['height'])\n",
    "popUpContent = '''\"<b>INTERVENCION CALLEJERA</b> <br> <a href=' ''' + grande + \\\n",
    "''' ' target='_blank'> <img src=' ''' + chica + ''' \\\n",
    "' height=' ''' + tamanio + ''''></a>\"'''\n",
    "print popUpContent"
   ]
  },
  {
   "cell_type": "code",
   "execution_count": null,
   "metadata": {
    "collapsed": true
   },
   "outputs": [],
   "source": []
  },
  {
   "cell_type": "code",
   "execution_count": null,
   "metadata": {
    "collapsed": true
   },
   "outputs": [],
   "source": []
  }
 ],
 "metadata": {
  "anaconda-cloud": {},
  "kernelspec": {
   "display_name": "Python [conda root]",
   "language": "python",
   "name": "conda-root-py"
  },
  "language_info": {
   "codemirror_mode": {
    "name": "ipython",
    "version": 2
   },
   "file_extension": ".py",
   "mimetype": "text/x-python",
   "name": "python",
   "nbconvert_exporter": "python",
   "pygments_lexer": "ipython2",
   "version": "2.7.12"
  }
 },
 "nbformat": 4,
 "nbformat_minor": 1
}
